{
 "cells": [
  {
   "cell_type": "code",
   "execution_count": 1,
   "id": "0ddcb92d",
   "metadata": {},
   "outputs": [],
   "source": [
    "# Imports\n",
    "import numpy as np\n",
    "import matplotlib.pyplot as plt\n",
    "from memory_profiler import profile\n",
    "import time"
   ]
  },
  {
   "cell_type": "markdown",
   "id": "83d8c3f0",
   "metadata": {},
   "source": [
    "# Problem 3: Solving Sudoku Puzzle using Backtracking\n",
    "# Algorithmic Strategy: Backtracking\n",
    "# Application Domain: Gaming, Puzzle Solvers"
   ]
  },
  {
   "cell_type": "code",
   "execution_count": 2,
   "id": "14635647",
   "metadata": {},
   "outputs": [
    {
     "name": "stdout",
     "output_type": "stream",
     "text": [
      "Initial Sudoku Grid:\n",
      "[5, 3, 0, 0, 7, 0, 0, 0, 0]\n",
      "[6, 0, 0, 1, 9, 5, 0, 0, 0]\n",
      "[0, 9, 8, 0, 0, 0, 0, 6, 0]\n",
      "[8, 0, 0, 0, 6, 0, 0, 0, 3]\n",
      "[4, 0, 0, 8, 0, 3, 0, 0, 1]\n",
      "[7, 0, 0, 0, 2, 0, 0, 0, 6]\n",
      "[0, 6, 0, 0, 0, 0, 2, 8, 0]\n",
      "[0, 0, 0, 4, 1, 9, 0, 0, 5]\n",
      "[0, 0, 0, 0, 8, 0, 0, 7, 9]\n"
     ]
    }
   ],
   "source": [
    "# 0 denotes empty cells\n",
    "sudoku_grid = [\n",
    "    [5, 3, 0, 0, 7, 0, 0, 0, 0],\n",
    "    [6, 0, 0, 1, 9, 5, 0, 0, 0],\n",
    "    [0, 9, 8, 0, 0, 0, 0, 6, 0],\n",
    "    [8, 0, 0, 0, 6, 0, 0, 0, 3],\n",
    "    [4, 0, 0, 8, 0, 3, 0, 0, 1],\n",
    "    [7, 0, 0, 0, 2, 0, 0, 0, 6],\n",
    "    [0, 6, 0, 0, 0, 0, 2, 8, 0],\n",
    "    [0, 0, 0, 4, 1, 9, 0, 0, 5],\n",
    "    [0, 0, 0, 0, 8, 0, 0, 7, 9]\n",
    "]\n",
    "\n",
    "print(\"Initial Sudoku Grid:\")\n",
    "for row in sudoku_grid:\n",
    "    print(row)"
   ]
  },
  {
   "cell_type": "code",
   "execution_count": 3,
   "id": "547a57f5",
   "metadata": {},
   "outputs": [],
   "source": [
    "# Function to check if placing num is valid\n",
    "def is_valid(board, row, col, num):\n",
    "    # Check row\n",
    "    if num in board[row]:\n",
    "        return False\n",
    "    \n",
    "    # Check column\n",
    "    for r in range(9):\n",
    "        if board[r][col] == num:\n",
    "            return False\n",
    "    \n",
    "    # Check 3x3 subgrid\n",
    "    start_row, start_col = 3 * (row // 3), 3 * (col // 3)\n",
    "    for r in range(start_row, start_row + 3):\n",
    "        for c in range(start_col, start_col + 3):\n",
    "            if board[r][c] == num:\n",
    "                return False\n",
    "    return True\n",
    "\n",
    "# Recursive Backtracking Function\n",
    "def solve_sudoku(board):\n",
    "    for row in range(9):\n",
    "        for col in range(9):\n",
    "            if board[row][col] == 0:  # Empty cell\n",
    "                for num in range(1, 10):\n",
    "                    if is_valid(board, row, col, num):\n",
    "                        board[row][col] = num\n",
    "                        if solve_sudoku(board):\n",
    "                            return True\n",
    "                        board[row][col] = 0  # Backtrack\n",
    "                return False\n",
    "    return True\n"
   ]
  },
  {
   "cell_type": "code",
   "execution_count": 4,
   "id": "ec35c3b9",
   "metadata": {},
   "outputs": [
    {
     "name": "stdout",
     "output_type": "stream",
     "text": [
      "\n",
      "Solved Sudoku Grid:\n",
      "[5, 3, 4, 6, 7, 8, 9, 1, 2]\n",
      "[6, 7, 2, 1, 9, 5, 3, 4, 8]\n",
      "[1, 9, 8, 3, 4, 2, 5, 6, 7]\n",
      "[8, 5, 9, 7, 6, 1, 4, 2, 3]\n",
      "[4, 2, 6, 8, 5, 3, 7, 9, 1]\n",
      "[7, 1, 3, 9, 2, 4, 8, 5, 6]\n",
      "[9, 6, 1, 5, 3, 7, 2, 8, 4]\n",
      "[2, 8, 7, 4, 1, 9, 6, 3, 5]\n",
      "[3, 4, 5, 2, 8, 6, 1, 7, 9]\n",
      "\n",
      "⏱ Time Taken: 0.0270 seconds\n"
     ]
    }
   ],
   "source": [
    "import copy\n",
    "board = copy.deepcopy(sudoku_grid)  # To keep original intact\n",
    "\n",
    "start_time = time.time()\n",
    "if solve_sudoku(board):\n",
    "    print(\"\\nSolved Sudoku Grid:\")\n",
    "    for row in board:\n",
    "        print(row)\n",
    "else:\n",
    "    print(\"No solution exists.\")\n",
    "end_time = time.time()\n",
    "\n",
    "print(f\"\\n⏱ Time Taken: {end_time - start_time:.4f} seconds\")\n"
   ]
  },
  {
   "cell_type": "code",
   "execution_count": 5,
   "id": "c23153b3",
   "metadata": {},
   "outputs": [
    {
     "name": "stdout",
     "output_type": "stream",
     "text": [
      "Empty Cells Initially: 51\n",
      "Time Taken to Solve: 0.026978 seconds\n"
     ]
    }
   ],
   "source": [
    "empty_cells = sum(row.count(0) for row in sudoku_grid)\n",
    "time_taken = end_time - start_time\n",
    "\n",
    "print(f\"Empty Cells Initially: {empty_cells}\")\n",
    "print(f\"Time Taken to Solve: {time_taken:.6f} seconds\")"
   ]
  },
  {
   "cell_type": "code",
   "execution_count": 6,
   "id": "2aa1abcd",
   "metadata": {},
   "outputs": [
    {
     "data": {
      "image/png": "[encoded data removed]",
      "text/plain": [
       "<Figure size 600x400 with 1 Axes>"
      ]
     },
     "metadata": {},
     "output_type": "display_data"
    }
   ],
   "source": [
    "# Experiment: Record solving time for puzzles with different # of empty cells\n",
    "empty_list = [10, 20, 30, 40, 50]\n",
    "time_list = []\n",
    "\n",
    "for empties in empty_list:\n",
    "    # Generate random board with \"empties\" empty cells from solved puzzle\n",
    "    test_board = copy.deepcopy(board)\n",
    "    removed = 0\n",
    "    while removed < empties:\n",
    "        r, c = np.random.randint(0, 9), np.random.randint(0, 9)\n",
    "        if test_board[r][c] != 0:\n",
    "            test_board[r][c] = 0\n",
    "            removed += 1\n",
    "    \n",
    "    start = time.time()\n",
    "    solve_sudoku(test_board)\n",
    "    time_list.append(time.time() - start)\n",
    "\n",
    "# Plot\n",
    "plt.figure(figsize=(6,4))\n",
    "plt.plot(empty_list, time_list, marker=\"o\")\n",
    "plt.title(\"Sudoku Performance: Empty Cells vs Time Taken\")\n",
    "plt.xlabel(\"Number of Empty Cells\")\n",
    "plt.ylabel(\"Time (seconds)\")\n",
    "plt.grid(True)\n",
    "plt.show()\n"
   ]
  }
 ],
 "metadata": {
  "kernelspec": {
   "display_name": "venv (3.13.5)",
   "language": "python",
   "name": "python3"
  },
  "language_info": {
   "codemirror_mode": {
    "name": "ipython",
    "version": 3
   },
   "file_extension": ".py",
   "mimetype": "text/x-python",
   "name": "python",
   "nbconvert_exporter": "python",
   "pygments_lexer": "ipython3",
   "version": "3.13.5"
  }
 },
 "nbformat": 4,
 "nbformat_minor": 5
}
